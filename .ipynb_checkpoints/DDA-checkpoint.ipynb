{
 "cells": [
  {
   "cell_type": "code",
   "execution_count": 28,
   "id": "82454530-cf8e-46d8-9ace-b75f2b47273a",
   "metadata": {},
   "outputs": [],
   "source": [
    "# 판다스 라이브러리 임포트\n",
    "import pandas as pd"
   ]
  },
  {
   "cell_type": "code",
   "execution_count": 4,
   "id": "047d5e78-2c80-46ee-b5fe-88bfdf283a33",
   "metadata": {},
   "outputs": [],
   "source": [
    "# csv 파일 불러 오기\n",
    "df = pd.read_csv(\"./Data01.csv\")"
   ]
  },
  {
   "cell_type": "code",
   "execution_count": 6,
   "id": "ab05f5a8-1aae-4caa-88c1-eb2c06cab5e3",
   "metadata": {},
   "outputs": [
    {
     "data": {
      "text/plain": [
       "RangeIndex(start=0, stop=6519, step=1)"
      ]
     },
     "execution_count": 6,
     "metadata": {},
     "output_type": "execute_result"
    }
   ],
   "source": [
    "df.index # 데이터의 순서 index"
   ]
  },
  {
   "cell_type": "code",
   "execution_count": 12,
   "id": "8f509022-d637-4659-94e5-dad7d0307048",
   "metadata": {},
   "outputs": [
    {
     "data": {
      "text/plain": [
       "Index(['회원번호', '조합원상태', '주소-구', '주소-동', '성별', '연령', '연령대', '총구매금액', '총구매수량',\n",
       "       '1회방문시구매금액(평균)', '배송서비스신청여부', '모바일알람여부', 'Gold_member'],\n",
       "      dtype='object')"
      ]
     },
     "execution_count": 12,
     "metadata": {},
     "output_type": "execute_result"
    }
   ],
   "source": [
    "df.columns # 데이터의 속성, 컬럼명 머리글 columns"
   ]
  },
  {
   "cell_type": "code",
   "execution_count": 10,
   "id": "e987d884-fcbd-4c28-a343-ca74b96ebdcd",
   "metadata": {},
   "outputs": [
    {
     "name": "stdout",
     "output_type": "stream",
     "text": [
      "<class 'pandas.core.frame.DataFrame'>\n",
      "RangeIndex: 6519 entries, 0 to 6518\n",
      "Data columns (total 13 columns):\n",
      " #   Column         Non-Null Count  Dtype  \n",
      "---  ------         --------------  -----  \n",
      " 0   회원번호           6519 non-null   int64  \n",
      " 1   조합원상태          6519 non-null   object \n",
      " 2   주소-구           6519 non-null   object \n",
      " 3   주소-동           6519 non-null   object \n",
      " 4   성별             6518 non-null   object \n",
      " 5   연령             6518 non-null   float64\n",
      " 6   연령대            6518 non-null   object \n",
      " 7   총구매금액          6519 non-null   int64  \n",
      " 8   총구매수량          6519 non-null   float64\n",
      " 9   1회방문시구매금액(평균)  6519 non-null   int64  \n",
      " 10  배송서비스신청여부      6519 non-null   object \n",
      " 11  모바일알람여부        6519 non-null   object \n",
      " 12  Gold_member    6519 non-null   object \n",
      "dtypes: float64(2), int64(3), object(8)\n",
      "memory usage: 662.2+ KB\n"
     ]
    }
   ],
   "source": [
    "df.info() #데이터의 타입 확인, null 값이 있는지, 총 몇개의 데이타가 있는지"
   ]
  },
  {
   "cell_type": "code",
   "execution_count": 13,
   "id": "d99a139a-19ee-4caa-9a68-dbb2178dfcd0",
   "metadata": {},
   "outputs": [
    {
     "data": {
      "text/html": [
       "<div>\n",
       "<style scoped>\n",
       "    .dataframe tbody tr th:only-of-type {\n",
       "        vertical-align: middle;\n",
       "    }\n",
       "\n",
       "    .dataframe tbody tr th {\n",
       "        vertical-align: top;\n",
       "    }\n",
       "\n",
       "    .dataframe thead th {\n",
       "        text-align: right;\n",
       "    }\n",
       "</style>\n",
       "<table border=\"1\" class=\"dataframe\">\n",
       "  <thead>\n",
       "    <tr style=\"text-align: right;\">\n",
       "      <th></th>\n",
       "      <th>회원번호</th>\n",
       "      <th>조합원상태</th>\n",
       "      <th>주소-구</th>\n",
       "      <th>주소-동</th>\n",
       "      <th>성별</th>\n",
       "      <th>연령</th>\n",
       "      <th>연령대</th>\n",
       "      <th>총구매금액</th>\n",
       "      <th>총구매수량</th>\n",
       "      <th>1회방문시구매금액(평균)</th>\n",
       "      <th>배송서비스신청여부</th>\n",
       "      <th>모바일알람여부</th>\n",
       "      <th>Gold_member</th>\n",
       "    </tr>\n",
       "  </thead>\n",
       "  <tbody>\n",
       "    <tr>\n",
       "      <th>0</th>\n",
       "      <td>272369856</td>\n",
       "      <td>정상회원</td>\n",
       "      <td>수지구</td>\n",
       "      <td>풍덕천동</td>\n",
       "      <td>여</td>\n",
       "      <td>45.0</td>\n",
       "      <td>40대</td>\n",
       "      <td>5733884</td>\n",
       "      <td>546.5</td>\n",
       "      <td>47782</td>\n",
       "      <td>미신청</td>\n",
       "      <td>수신</td>\n",
       "      <td>VIP</td>\n",
       "    </tr>\n",
       "    <tr>\n",
       "      <th>1</th>\n",
       "      <td>1506656256</td>\n",
       "      <td>정상회원</td>\n",
       "      <td>수지구</td>\n",
       "      <td>풍덕천동</td>\n",
       "      <td>여</td>\n",
       "      <td>36.0</td>\n",
       "      <td>30대이하</td>\n",
       "      <td>673414</td>\n",
       "      <td>90.0</td>\n",
       "      <td>35443</td>\n",
       "      <td>미신청</td>\n",
       "      <td>.</td>\n",
       "      <td>normal</td>\n",
       "    </tr>\n",
       "    <tr>\n",
       "      <th>2</th>\n",
       "      <td>1476143616</td>\n",
       "      <td>정상회원</td>\n",
       "      <td>수지구</td>\n",
       "      <td>풍덕천동</td>\n",
       "      <td>여</td>\n",
       "      <td>34.0</td>\n",
       "      <td>30대이하</td>\n",
       "      <td>655919</td>\n",
       "      <td>66.0</td>\n",
       "      <td>46851</td>\n",
       "      <td>미신청</td>\n",
       "      <td>.</td>\n",
       "      <td>normal</td>\n",
       "    </tr>\n",
       "    <tr>\n",
       "      <th>3</th>\n",
       "      <td>716128320</td>\n",
       "      <td>정상회원</td>\n",
       "      <td>수지구</td>\n",
       "      <td>풍덕천동</td>\n",
       "      <td>여</td>\n",
       "      <td>51.0</td>\n",
       "      <td>50대</td>\n",
       "      <td>2984534</td>\n",
       "      <td>252.1</td>\n",
       "      <td>48138</td>\n",
       "      <td>미신청</td>\n",
       "      <td>.</td>\n",
       "      <td>normal</td>\n",
       "    </tr>\n",
       "    <tr>\n",
       "      <th>4</th>\n",
       "      <td>743192512</td>\n",
       "      <td>정상회원</td>\n",
       "      <td>수지구</td>\n",
       "      <td>성복동</td>\n",
       "      <td>여</td>\n",
       "      <td>51.0</td>\n",
       "      <td>50대</td>\n",
       "      <td>1901488</td>\n",
       "      <td>152.0</td>\n",
       "      <td>158457</td>\n",
       "      <td>신청</td>\n",
       "      <td>.</td>\n",
       "      <td>normal</td>\n",
       "    </tr>\n",
       "  </tbody>\n",
       "</table>\n",
       "</div>"
      ],
      "text/plain": [
       "         회원번호 조합원상태 주소-구  주소-동 성별    연령    연령대    총구매금액  총구매수량  1회방문시구매금액(평균)  \\\n",
       "0   272369856  정상회원  수지구  풍덕천동  여  45.0    40대  5733884  546.5          47782   \n",
       "1  1506656256  정상회원  수지구  풍덕천동  여  36.0  30대이하   673414   90.0          35443   \n",
       "2  1476143616  정상회원  수지구  풍덕천동  여  34.0  30대이하   655919   66.0          46851   \n",
       "3   716128320  정상회원  수지구  풍덕천동  여  51.0    50대  2984534  252.1          48138   \n",
       "4   743192512  정상회원  수지구   성복동  여  51.0    50대  1901488  152.0         158457   \n",
       "\n",
       "  배송서비스신청여부 모바일알람여부 Gold_member  \n",
       "0       미신청      수신         VIP  \n",
       "1       미신청       .      normal  \n",
       "2       미신청       .      normal  \n",
       "3       미신청       .      normal  \n",
       "4        신청       .      normal  "
      ]
     },
     "execution_count": 13,
     "metadata": {},
     "output_type": "execute_result"
    }
   ],
   "source": [
    "df.head()"
   ]
  },
  {
   "cell_type": "code",
   "execution_count": 21,
   "id": "e2da7c1d-dfbd-4ed5-947e-15e7fabd1d41",
   "metadata": {},
   "outputs": [],
   "source": [
    "### 숫자 데이터 - 대표값(중심값)"
   ]
  },
  {
   "cell_type": "code",
   "execution_count": 15,
   "id": "c44e56dd-1dd1-4a6c-8bf8-ca487873fa6a",
   "metadata": {},
   "outputs": [
    {
     "data": {
      "text/plain": [
       "966397.3017333947"
      ]
     },
     "execution_count": 15,
     "metadata": {},
     "output_type": "execute_result"
    }
   ],
   "source": [
    "df[\"총구매금액\"].mean() # 평균"
   ]
  },
  {
   "cell_type": "code",
   "execution_count": 16,
   "id": "2d52ff04-154d-40fb-9153-e31ec557bca8",
   "metadata": {},
   "outputs": [
    {
     "data": {
      "text/plain": [
       "287354.0"
      ]
     },
     "execution_count": 16,
     "metadata": {},
     "output_type": "execute_result"
    }
   ],
   "source": [
    "df[\"총구매금액\"].median() # 중앙값"
   ]
  },
  {
   "cell_type": "code",
   "execution_count": 20,
   "id": "0145c07f-d5e8-4c3c-82c2-f2657818e3fd",
   "metadata": {},
   "outputs": [
    {
     "data": {
      "text/plain": [
       "-8615"
      ]
     },
     "execution_count": 20,
     "metadata": {},
     "output_type": "execute_result"
    }
   ],
   "source": [
    "df[\"총구매금액\"].min() # 최소값, 환불했을 경우"
   ]
  },
  {
   "cell_type": "code",
   "execution_count": 19,
   "id": "ebe12fd6-092e-46eb-9ebc-5800686db539",
   "metadata": {},
   "outputs": [
    {
     "data": {
      "text/plain": [
       "24986439"
      ]
     },
     "execution_count": 19,
     "metadata": {},
     "output_type": "execute_result"
    }
   ],
   "source": [
    "df[\"총구매금액\"].max() # 최대값"
   ]
  },
  {
   "cell_type": "code",
   "execution_count": 22,
   "id": "03eb57ab-38c9-4179-9062-0a92a85072b7",
   "metadata": {},
   "outputs": [],
   "source": [
    "### 숫자데이터: 분포 - 분산/표준편차"
   ]
  },
  {
   "cell_type": "code",
   "execution_count": 24,
   "id": "8b947dce-a2d6-4b1e-956d-eb7aade8efb0",
   "metadata": {},
   "outputs": [
    {
     "data": {
      "text/plain": [
       "3315926652842.0566"
      ]
     },
     "execution_count": 24,
     "metadata": {},
     "output_type": "execute_result"
    }
   ],
   "source": [
    "df[\"총구매금액\"].var() # 분산"
   ]
  },
  {
   "cell_type": "code",
   "execution_count": 25,
   "id": "fd7b2bb8-3f55-4048-a75e-69100885310b",
   "metadata": {},
   "outputs": [
    {
     "data": {
      "text/plain": [
       "1820968.6029259418"
      ]
     },
     "execution_count": 25,
     "metadata": {},
     "output_type": "execute_result"
    }
   ],
   "source": [
    "df[\"총구매금액\"].std()"
   ]
  },
  {
   "cell_type": "code",
   "execution_count": 27,
   "id": "9903f2f4-3cd6-45e8-a358-a4c8ce6ae5d2",
   "metadata": {},
   "outputs": [
    {
     "data": {
      "text/html": [
       "<div>\n",
       "<style scoped>\n",
       "    .dataframe tbody tr th:only-of-type {\n",
       "        vertical-align: middle;\n",
       "    }\n",
       "\n",
       "    .dataframe tbody tr th {\n",
       "        vertical-align: top;\n",
       "    }\n",
       "\n",
       "    .dataframe thead th {\n",
       "        text-align: right;\n",
       "    }\n",
       "</style>\n",
       "<table border=\"1\" class=\"dataframe\">\n",
       "  <thead>\n",
       "    <tr style=\"text-align: right;\">\n",
       "      <th></th>\n",
       "      <th>회원번호</th>\n",
       "      <th>연령</th>\n",
       "      <th>총구매금액</th>\n",
       "      <th>총구매수량</th>\n",
       "      <th>1회방문시구매금액(평균)</th>\n",
       "    </tr>\n",
       "  </thead>\n",
       "  <tbody>\n",
       "    <tr>\n",
       "      <th>count</th>\n",
       "      <td>6.519000e+03</td>\n",
       "      <td>6518.000000</td>\n",
       "      <td>6.519000e+03</td>\n",
       "      <td>6519.000000</td>\n",
       "      <td>6.519000e+03</td>\n",
       "    </tr>\n",
       "    <tr>\n",
       "      <th>mean</th>\n",
       "      <td>8.217085e+08</td>\n",
       "      <td>49.597269</td>\n",
       "      <td>9.663973e+05</td>\n",
       "      <td>100.315354</td>\n",
       "      <td>5.682255e+04</td>\n",
       "    </tr>\n",
       "    <tr>\n",
       "      <th>std</th>\n",
       "      <td>4.407048e+08</td>\n",
       "      <td>11.570095</td>\n",
       "      <td>1.820969e+06</td>\n",
       "      <td>179.991677</td>\n",
       "      <td>4.585431e+04</td>\n",
       "    </tr>\n",
       "    <tr>\n",
       "      <th>min</th>\n",
       "      <td>1.879200e+07</td>\n",
       "      <td>17.000000</td>\n",
       "      <td>-8.615000e+03</td>\n",
       "      <td>-1.000000</td>\n",
       "      <td>-8.615000e+03</td>\n",
       "    </tr>\n",
       "    <tr>\n",
       "      <th>25%</th>\n",
       "      <td>4.689230e+08</td>\n",
       "      <td>41.000000</td>\n",
       "      <td>7.954400e+04</td>\n",
       "      <td>8.000000</td>\n",
       "      <td>2.779950e+04</td>\n",
       "    </tr>\n",
       "    <tr>\n",
       "      <th>50%</th>\n",
       "      <td>7.743937e+08</td>\n",
       "      <td>47.000000</td>\n",
       "      <td>2.873540e+05</td>\n",
       "      <td>29.000000</td>\n",
       "      <td>4.560600e+04</td>\n",
       "    </tr>\n",
       "    <tr>\n",
       "      <th>75%</th>\n",
       "      <td>1.178677e+09</td>\n",
       "      <td>56.000000</td>\n",
       "      <td>1.026950e+06</td>\n",
       "      <td>109.100000</td>\n",
       "      <td>7.222900e+04</td>\n",
       "    </tr>\n",
       "    <tr>\n",
       "      <th>max</th>\n",
       "      <td>1.670621e+09</td>\n",
       "      <td>108.000000</td>\n",
       "      <td>2.498644e+07</td>\n",
       "      <td>2296.600000</td>\n",
       "      <td>1.004876e+06</td>\n",
       "    </tr>\n",
       "  </tbody>\n",
       "</table>\n",
       "</div>"
      ],
      "text/plain": [
       "               회원번호           연령         총구매금액        총구매수량  1회방문시구매금액(평균)\n",
       "count  6.519000e+03  6518.000000  6.519000e+03  6519.000000   6.519000e+03\n",
       "mean   8.217085e+08    49.597269  9.663973e+05   100.315354   5.682255e+04\n",
       "std    4.407048e+08    11.570095  1.820969e+06   179.991677   4.585431e+04\n",
       "min    1.879200e+07    17.000000 -8.615000e+03    -1.000000  -8.615000e+03\n",
       "25%    4.689230e+08    41.000000  7.954400e+04     8.000000   2.779950e+04\n",
       "50%    7.743937e+08    47.000000  2.873540e+05    29.000000   4.560600e+04\n",
       "75%    1.178677e+09    56.000000  1.026950e+06   109.100000   7.222900e+04\n",
       "max    1.670621e+09   108.000000  2.498644e+07  2296.600000   1.004876e+06"
      ]
     },
     "execution_count": 27,
     "metadata": {},
     "output_type": "execute_result"
    }
   ],
   "source": [
    "df.describe() # 모든 숫자 데이터에 대한 기술 통계량"
   ]
  },
  {
   "cell_type": "code",
   "execution_count": null,
   "id": "d8101f43-7ace-41f1-9051-0e1319272fb6",
   "metadata": {},
   "outputs": [],
   "source": [
    "# 텍스트 데이터"
   ]
  },
  {
   "cell_type": "code",
   "execution_count": 29,
   "id": "02a99d12-ff13-4348-a4b7-c8fd87a32427",
   "metadata": {},
   "outputs": [
    {
     "data": {
      "text/plain": [
       "array(['여', '남', nan], dtype=object)"
      ]
     },
     "execution_count": 29,
     "metadata": {},
     "output_type": "execute_result"
    }
   ],
   "source": [
    "df[\"성별\"].unique()"
   ]
  },
  {
   "cell_type": "code",
   "execution_count": 30,
   "id": "56915677-6309-4528-81b6-75a18e855bad",
   "metadata": {},
   "outputs": [
    {
     "data": {
      "text/plain": [
       "성별\n",
       "여    6100\n",
       "남     418\n",
       "Name: count, dtype: int64"
      ]
     },
     "execution_count": 30,
     "metadata": {},
     "output_type": "execute_result"
    }
   ],
   "source": [
    "df[\"성별\"].value_counts()"
   ]
  },
  {
   "cell_type": "code",
   "execution_count": 32,
   "id": "794e213c-8d93-4987-ad88-0c2bf8036706",
   "metadata": {},
   "outputs": [
    {
     "data": {
      "text/html": [
       "<div>\n",
       "<style scoped>\n",
       "    .dataframe tbody tr th:only-of-type {\n",
       "        vertical-align: middle;\n",
       "    }\n",
       "\n",
       "    .dataframe tbody tr th {\n",
       "        vertical-align: top;\n",
       "    }\n",
       "\n",
       "    .dataframe thead th {\n",
       "        text-align: right;\n",
       "    }\n",
       "</style>\n",
       "<table border=\"1\" class=\"dataframe\">\n",
       "  <thead>\n",
       "    <tr style=\"text-align: right;\">\n",
       "      <th></th>\n",
       "      <th>조합원상태</th>\n",
       "      <th>주소-구</th>\n",
       "      <th>주소-동</th>\n",
       "      <th>성별</th>\n",
       "      <th>연령대</th>\n",
       "      <th>배송서비스신청여부</th>\n",
       "      <th>모바일알람여부</th>\n",
       "      <th>Gold_member</th>\n",
       "    </tr>\n",
       "  </thead>\n",
       "  <tbody>\n",
       "    <tr>\n",
       "      <th>count</th>\n",
       "      <td>6519</td>\n",
       "      <td>6519</td>\n",
       "      <td>6519</td>\n",
       "      <td>6518</td>\n",
       "      <td>6518</td>\n",
       "      <td>6519</td>\n",
       "      <td>6519</td>\n",
       "      <td>6519</td>\n",
       "    </tr>\n",
       "    <tr>\n",
       "      <th>unique</th>\n",
       "      <td>5</td>\n",
       "      <td>16</td>\n",
       "      <td>59</td>\n",
       "      <td>2</td>\n",
       "      <td>5</td>\n",
       "      <td>2</td>\n",
       "      <td>2</td>\n",
       "      <td>2</td>\n",
       "    </tr>\n",
       "    <tr>\n",
       "      <th>top</th>\n",
       "      <td>정상회원</td>\n",
       "      <td>수지구</td>\n",
       "      <td>풍덕천동</td>\n",
       "      <td>여</td>\n",
       "      <td>40대</td>\n",
       "      <td>미신청</td>\n",
       "      <td>.</td>\n",
       "      <td>normal</td>\n",
       "    </tr>\n",
       "    <tr>\n",
       "      <th>freq</th>\n",
       "      <td>6428</td>\n",
       "      <td>4445</td>\n",
       "      <td>1739</td>\n",
       "      <td>6100</td>\n",
       "      <td>2503</td>\n",
       "      <td>6003</td>\n",
       "      <td>6016</td>\n",
       "      <td>6423</td>\n",
       "    </tr>\n",
       "  </tbody>\n",
       "</table>\n",
       "</div>"
      ],
      "text/plain": [
       "       조합원상태  주소-구  주소-동    성별   연령대 배송서비스신청여부 모바일알람여부 Gold_member\n",
       "count   6519  6519  6519  6518  6518      6519    6519        6519\n",
       "unique     5    16    59     2     5         2       2           2\n",
       "top     정상회원   수지구  풍덕천동     여   40대       미신청       .      normal\n",
       "freq    6428  4445  1739  6100  2503      6003    6016        6423"
      ]
     },
     "execution_count": 32,
     "metadata": {},
     "output_type": "execute_result"
    }
   ],
   "source": [
    "df.describe(include=\"object\")"
   ]
  },
  {
   "cell_type": "code",
   "execution_count": null,
   "id": "04ecc2ca-67e2-421f-af3d-aabdb1551b91",
   "metadata": {},
   "outputs": [],
   "source": []
  }
 ],
 "metadata": {
  "kernelspec": {
   "display_name": "Python 3 (ipykernel)",
   "language": "python",
   "name": "python3"
  },
  "language_info": {
   "codemirror_mode": {
    "name": "ipython",
    "version": 3
   },
   "file_extension": ".py",
   "mimetype": "text/x-python",
   "name": "python",
   "nbconvert_exporter": "python",
   "pygments_lexer": "ipython3",
   "version": "3.11.5"
  }
 },
 "nbformat": 4,
 "nbformat_minor": 5
}
